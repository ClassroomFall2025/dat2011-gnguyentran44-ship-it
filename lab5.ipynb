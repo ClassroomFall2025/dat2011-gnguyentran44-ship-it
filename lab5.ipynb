{
 "cells": [
  {
   "cell_type": "markdown",
   "id": "fdeff819",
   "metadata": {},
   "source": [
    "# Sinh Viên thực hiện Lab 5 ở Đây"
   ]
  },
  {
   "cell_type": "markdown",
   "id": "acc5d7dc",
   "metadata": {},
   "source": [
    "## Lab 5 - Bài 1"
   ]
  },
  {
   "cell_type": "code",
   "execution_count": null,
   "id": "001e0507",
   "metadata": {},
   "outputs": [],
   "source": [
    "# Code lab 5 bài 1 ở đây\n",
    "from sanpham import *\n",
    "\n",
    "sp1 = sanpham(\"\", \"\", 0)\n",
    "sp2 = sanpham(\"\", \"\", 0)\n",
    "\n",
    "sp1.nhap_thong_tin()\n",
    "sp1.xuat_thong_tin()\n",
    "sp2.nhap_thong_tin()\n",
    "sp2.xuat_thong_tin()\n"
   ]
  },
  {
   "cell_type": "markdown",
   "id": "c0835310",
   "metadata": {},
   "source": [
    "## Lab 5 - Bài 2"
   ]
  },
  {
   "cell_type": "code",
   "execution_count": 3,
   "id": "fa9cb39f",
   "metadata": {},
   "outputs": [
    {
     "name": "stdout",
     "output_type": "stream",
     "text": [
      "Sản phẩm Beer có giá 200000được giảm giá 200 và thuế nhập khẩu là 20000.0\n"
     ]
    }
   ],
   "source": [
    "# Code lab 5  bài 2 ở đây\n",
    "from sanpham import *\n",
    "sp1 = sanpham(\"Beer\",200000,200)\n",
    "print(sp1)"
   ]
  },
  {
   "cell_type": "code",
   "execution_count": null,
   "id": "79202ea8",
   "metadata": {},
   "outputs": [],
   "source": []
  },
  {
   "cell_type": "markdown",
   "id": "0f2483fe",
   "metadata": {},
   "source": [
    "## Lab 5 - Bài 3"
   ]
  },
  {
   "cell_type": "code",
   "execution_count": 3,
   "id": "7034990b",
   "metadata": {},
   "outputs": [],
   "source": [
    "# Code lab 5  bài 3 ở đây\n",
    "class SanPham:\n",
    "    def __init__(self, ten_sp, gia_sp):\n",
    "        self.__ten_sp = ten_sp      # private field\n",
    "        self.__gia_sp = gia_sp      # private field\n",
    "\n",
    "    # Getter cho tên sản phẩm\n",
    "    def get_ten_sp(self):\n",
    "        return self.__ten_sp\n",
    "\n",
    "    # Setter cho tên sản phẩm\n",
    "    def set_ten_sp(self, ten_moi):\n",
    "        self.__ten_sp = ten_moi\n",
    "\n",
    "    # Getter cho giá sản phẩm\n",
    "    def get_gia_sp(self):\n",
    "        return self.__gia_sp\n",
    "\n",
    "    # Setter cho giá sản phẩm\n",
    "    def set_gia_sp(self, gia_moi):\n",
    "        self.__gia_sp = gia_moi\n",
    "\n",
    "\n"
   ]
  },
  {
   "cell_type": "markdown",
   "id": "d36ea3d3",
   "metadata": {},
   "source": [
    "## Lab 5 - Bài 4"
   ]
  },
  {
   "cell_type": "code",
   "execution_count": 3,
   "id": "4c707ec1",
   "metadata": {},
   "outputs": [],
   "source": [
    "# code lab 5 bài 4 ở đây\n",
    "class sanpham:\n",
    "    def __init__(self,ten_san_pham,gia,giam_gia):\n",
    "        self.ten_san_pham =ten_san_pham\n",
    "        self.gia=gia\n",
    "        self.giam_gia=giam_gia\n",
    "\n",
    "    def doc_giam_gia(self):\n",
    "        return self.giam_gia\n",
    "    def ghi_giam_gia(self,giam_gia_moi):\n",
    "        self.giam_gia=giam_gia_moi\n",
    "    def thue_nhap_khau(self):\n",
    "        return self.gia*0.1\n",
    "    \n",
    "\n",
    "    def nhap_thong_tin(self):\n",
    "        self.ten_san_pham = input(\"Nhập tên sản phẩm: \")\n",
    "        self.gia = float(input(\"Nhập giá sản phẩm: \"))\n",
    "        self.giam_gia = float(input(\"Nhập giá giảm: \"))\n",
    "\n",
    "    def xuat_thong_tin(self):\n",
    "        return(f\"san pham {self.ten_san_pham} có giá {self.gia} được giảm giá {self.giam_gia} và thuế nhập khẩu là {self.thue_nhap_khau()}\")\n",
    "    def __str__(self):\n",
    "        return f\"Sản phẩm {self. ten_san_pham} có giá {self.gia}được giảm giá {self.giam_gia} và thuế nhập khẩu là {self.thue_nhap_khau()}\"\n",
    "    "
   ]
  },
  {
   "cell_type": "markdown",
   "id": "e2b41d4a",
   "metadata": {},
   "source": [
    "## Lab 5 - Bài 5: bài tập làm thêm"
   ]
  },
  {
   "cell_type": "code",
   "execution_count": null,
   "id": "0e0172f7",
   "metadata": {},
   "outputs": [],
   "source": [
    "# code lab 5  bài làm thêm ở đây \n",
    "\n",
    "    \n"
   ]
  }
 ],
 "metadata": {
  "kernelspec": {
   "display_name": "Python 3",
   "language": "python",
   "name": "python3"
  },
  "language_info": {
   "codemirror_mode": {
    "name": "ipython",
    "version": 3
   },
   "file_extension": ".py",
   "mimetype": "text/x-python",
   "name": "python",
   "nbconvert_exporter": "python",
   "pygments_lexer": "ipython3",
   "version": "3.13.7"
  }
 },
 "nbformat": 4,
 "nbformat_minor": 5
}
