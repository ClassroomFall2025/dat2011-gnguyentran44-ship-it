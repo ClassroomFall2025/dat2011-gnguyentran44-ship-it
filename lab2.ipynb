{
 "cells": [
  {
   "cell_type": "markdown",
   "id": "fdeff819",
   "metadata": {},
   "source": [
    "# Sinh Viên thực hiện Lab 2 ở Đây"
   ]
  },
  {
   "cell_type": "markdown",
   "id": "acc5d7dc",
   "metadata": {},
   "source": [
    "## Lab 2 - Bài 1"
   ]
  },
  {
   "cell_type": "code",
   "execution_count": null,
   "id": "001e0507",
   "metadata": {},
   "outputs": [
    {
     "name": "stdout",
     "output_type": "stream",
     "text": [
      "Từ con người có trong bài thơ? False\n"
     ]
    }
   ],
   "source": [
    "# Code lab 2 bài 1 ở đâ\n",
    "BaiTho='''Kiếp con ngưỏng manh như là gió\n",
    "Sống trên đời có được mấy lần vui\n",
    "Sao phải đau mà không thể mỉm cười\n",
    "Gắng buông nỗi ngậm ngùi nơi quá khứ\n",
    "\n",
    "Nếu có thể sao ta không làm thử\n",
    "Để tâm hồn khắc hai chữ bình an\n",
    "Cho đôi chân bước thanh thản nhẹ nhàng\n",
    "Dù hướng đời có muôn ngàn đá sỏi\n",
    "'''\n",
    "tim_kiem=\"con người\"\n",
    "print(\"Từ\", tim_kiem, \"có trong bài thơ?\", tim_kiem in BaiTho)\n",
    "index1=BaiTho.find(\"con người\")\n",
    "index2=index1+len(\"con người\")\n",
    "tu_tim_kiem=BaiTho[index1:index2]\n",
    "tu_tim_kiem=input(\"Nhập từ cần tìm:\")\n",
    "index1=BaiTho.find(tu_tim_kiem)\n",
    "index2=index1+len(tu_tim_kiem)\n",
    "tu_tim_kiem_kq=(BaiTho[index1:index2])\n",
    "print(\"Từ tìm kiếm\",tu_tim_kiem_kq)\n",
    "\n",
    "\n"
   ]
  },
  {
   "cell_type": "markdown",
   "id": "c0835310",
   "metadata": {},
   "source": [
    "## Lab 2 - Bài 2"
   ]
  },
  {
   "cell_type": "code",
   "execution_count": null,
   "id": "fa9cb39f",
   "metadata": {},
   "outputs": [
    {
     "name": "stdout",
     "output_type": "stream",
     "text": [
      "BaiThomoi\n"
     ]
    }
   ],
   "source": [
    "# Code lab 2  bài 2 ở đây\n",
    "BaiTho='''Kiếp con ngưỏng manh như là gió\n",
    "Sống trên đời có được mấy lần vui\n",
    "Sao phải đau mà không thể mỉm cười\n",
    "Gắng buông nỗi ngậm ngùi nơi quá khứ\n",
    "\n",
    "Nếu có thể sao ta không làm thử\n",
    "Để tâm hồn khắc hai chữ bình an\n",
    "Cho đôi chân bước thanh thản nhẹ nhàng\n",
    "Dù hướng đời có muôn ngàn đá sỏi\n",
    "'''\n",
    "BaiTho = BaiTho.replace(\"bình an\", \"hạnh phúc\")\n",
    "print(\"BaiThomoi\")\n",
    "BaiThomoi='\"...' +'+\"\\n'+BaiTho +'...\"'\n",
    "print(\"BaiThoMoi\")#In chuỗi nguyên bản\n",
    "\n",
    "\n"
   ]
  },
  {
   "cell_type": "markdown",
   "id": "0f2483fe",
   "metadata": {},
   "source": [
    "## Lab 2 - Bài 3"
   ]
  },
  {
   "cell_type": "code",
   "execution_count": 4,
   "id": "7034990b",
   "metadata": {},
   "outputs": [
    {
     "name": "stdout",
     "output_type": "stream",
     "text": [
      "Nghiệm của phương trình là: x = -1.75\n"
     ]
    }
   ],
   "source": [
    "# Code lab 2  bài 3 ở đây\n",
    "a = float(input(\"Nhập hệ số a: \"))\n",
    "b = float(input(\"Nhập hệ số b: \"))\n",
    "\n",
    "if a == 0:\n",
    "    if b == 0:\n",
    "        print(\"Phương trình có vô số nghiệm.\")\n",
    "    else:\n",
    "        print(\"Phương trình vô nghiệm.\")\n",
    "else:\n",
    "    x = -b / a\n",
    "    print(f\"Nghiệm của phương trình là: x = {x}\")\n",
    "\n"
   ]
  },
  {
   "cell_type": "markdown",
   "id": "d36ea3d3",
   "metadata": {},
   "source": [
    "## Lab 2 - Bài 4"
   ]
  },
  {
   "cell_type": "code",
   "execution_count": 6,
   "id": "4c707ec1",
   "metadata": {},
   "outputs": [
    {
     "ename": "SyntaxError",
     "evalue": "unterminated string literal (detected at line 16) (2498062339.py, line 16)",
     "output_type": "error",
     "traceback": [
      "  \u001b[36mCell\u001b[39m\u001b[36m \u001b[39m\u001b[32mIn[6]\u001b[39m\u001b[32m, line 16\u001b[39m\n\u001b[31m    \u001b[39m\u001b[31mprint(\"Phương trình có 2 nghiệm x1 =\", (-b + delta**0.5)/(2*a), \" và x2 =\", (-b - delta* *0.5)/(2*a)\")\u001b[39m\n                                                                                                        ^\n\u001b[31mSyntaxError\u001b[39m\u001b[31m:\u001b[39m unterminated string literal (detected at line 16)\n"
     ]
    }
   ],
   "source": [
    "# code lab 2 bài 4 ở đây\n",
    "a = float(input(\"Nhập số a (a < > 0): \"))\n",
    "\n",
    "b = float(input(\"Nhập số b: \"))\n",
    "\n",
    "c = float(input(\"Nhập số c: \"))\n",
    "\n",
    "delta = b*b - 4*a*c\n",
    "\n",
    "if delta == 0:\n",
    "\n",
    "    print(\"Phương trình có nghiệm kép x1 = x2 =\", -b/(2*a))\n",
    "\n",
    "if delta > 0:\n",
    "\n",
    "    print(\"Phương trình có 2 nghiệm x1 =\", (-b + delta**0.5)/(2*a), \" và x2 =\", (-b - delta* *0.5)/(2*a)\")\n",
    "\n",
    "if delta < 0:\n",
    "\n",
    "    print(\"Phương trình đã cho vô nghiệm ! \")\n",
    "\n",
    "if delta== 0:\n",
    "\n",
    "    print(\"Phương trình có nghiệm kép x1 = x2 =\", -b/(2*a))\n",
    "\n",
    "else:\n",
    "\n",
    "if delta > 0:\n",
    "\n",
    "    print(\"Phương trình có 2 nghiệm x1 =\", (-b + delta**0.5)/(2*a), \" và x2 =\", (-b - delta**0.5)/(2*a))\n",
    "\n",
    "else :\n",
    "\n",
    "    print(\"Phương trình đã cho vô nghiệm! \") \n"
   ]
  },
  {
   "cell_type": "markdown",
   "id": "e2b41d4a",
   "metadata": {},
   "source": [
    "## Lab 2 - Bài 5: bài tập làm thêm"
   ]
  },
  {
   "cell_type": "code",
   "execution_count": null,
   "id": "0e0172f7",
   "metadata": {},
   "outputs": [
    {
     "ename": "IndentationError",
     "evalue": "expected an indented block after 'if' statement on line 11 (2755131857.py, line 12)",
     "output_type": "error",
     "traceback": [
      "  \u001b[36mCell\u001b[39m\u001b[36m \u001b[39m\u001b[32mIn[1]\u001b[39m\u001b[32m, line 12\u001b[39m\n\u001b[31m    \u001b[39m\u001b[31mketqua = so1/so2\u001b[39m\n    ^\n\u001b[31mIndentationError\u001b[39m\u001b[31m:\u001b[39m expected an indented block after 'if' statement on line 11\n"
     ]
    }
   ],
   "source": [
    "so1=float(input(\"Nhập số thứ nhất:\"))\n",
    "so2=float(input(\"Nhập số thứ hai:\"))\n",
    "toantu=input(\"Nhập phép toán(+,-,*,/):\")\n",
    "if toantu == \"+\":\n",
    "    ketqua=so1+so2\n",
    "    print(f\"Ketqua:{so1}+{so2}={ketqua}\")\n",
    "elif toantu==\"-\":\n",
    "        ketqua=so1-so2\n",
    "print(f\"Ketqua:{so1}-{so2}={ketqua}\")\n",
    "elif toantu==\"*\":\n",
    "    ketqua=so2*so2\n",
    "print(f\"\")\n",
    "    if toantu==\"/\":\n",
    "    ketqua = so1/so2\n",
    "    "
   ]
  }
 ],
 "metadata": {
  "kernelspec": {
   "display_name": "Python 3",
   "language": "python",
   "name": "python3"
  },
  "language_info": {
   "codemirror_mode": {
    "name": "ipython",
    "version": 3
   },
   "file_extension": ".py",
   "mimetype": "text/x-python",
   "name": "python",
   "nbconvert_exporter": "python",
   "pygments_lexer": "ipython3",
   "version": "3.13.7"
  }
 },
 "nbformat": 4,
 "nbformat_minor": 5
}
