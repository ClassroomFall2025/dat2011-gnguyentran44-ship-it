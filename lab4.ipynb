{
 "cells": [
  {
   "cell_type": "markdown",
   "id": "fdeff819",
   "metadata": {},
   "source": [
    "# Sinh Viên thực hiện Lab 4 ở Đây"
   ]
  },
  {
   "cell_type": "markdown",
   "id": "acc5d7dc",
   "metadata": {},
   "source": [
    "## Lab 1 - Bài 1"
   ]
  },
  {
   "cell_type": "code",
   "execution_count": 1,
   "id": "001e0507",
   "metadata": {},
   "outputs": [],
   "source": [
    "gia_ban_nuoc = (7500, 8800, 12000, 24000)\n",
    "\n",
    "def tinh_tien_nuoc(san_luong):\n",
    "    # ... (code để tính toán sẽ được thêm vào các bước sau)# Code lab 4 bài 1 ở đây\n",
    "    gia_ban_nuoc = (7500, 8800, 12000, 24000)\n",
    "\n",
    "def tinh_tien_nuoc(san_luong):\n",
    "    tien_nuoc = 0\n",
    "    if san_luong <= 10:\n",
    "        tien_nuoc = san_luong * gia_ban_nuoc[0]\n",
    "    elif san_luong <= 20:\n",
    "        tien_nuoc = 10 * gia_ban_nuoc[0] + (san_luong - 10) * gia_ban_nuoc[1]\n",
    "    elif san_luong <= 30:\n",
    "        tien_nuoc = 10 * gia_ban_nuoc[0] + 10 * gia_ban_nuoc[1] + (san_luong - 20) * gia_ban_nuoc[2]\n",
    "    else:\n",
    "        tien_nuoc = 10 * gia_ban_nuoc[0] + 10 * gia_ban_nuoc[1] + 10 * gia_ban_nuoc[2] + (san_luong - 30) * gia_ban_nuoc[3]\n",
    "    return tien_nuoc\n",
    "gia_ban_nuoc = (7500, 8800, 12000, 24000)\n",
    "\n",
    "def tinh_tien_nuoc(san_luong):\n",
    "    tien_nuoc = 0\n",
    "    if san_luong <= 10:\n",
    "        tien_nuoc = san_luong * gia_ban_nuoc[0]\n",
    "    elif san_luong <= 20:\n",
    "        tien_nuoc = 10 * gia_ban_nuoc[0] + (san_luong - 10) * gia_ban_nuoc[1]\n",
    "    elif san_luong <= 30:\n",
    "        tien_nuoc = 10 * gia_ban_nuoc[0] + 10 * gia_ban_nuoc[1] + (san_luong - 20) * gia_ban_nuoc[2]\n",
    "    else:\n",
    "        tien_nuoc = 10 * gia_ban_nuoc[0] + 10 * gia_ban_nuoc[1] + 10 * gia_ban_nuoc[2] + (san_luong - 30) * gia_ban_nuoc[3]\n",
    "    return tien_nuoc"
   ]
  },
  {
   "cell_type": "markdown",
   "id": "c0835310",
   "metadata": {},
   "source": [
    "## Lab 4 - Bài 2"
   ]
  },
  {
   "cell_type": "code",
   "execution_count": null,
   "id": "ce00753e",
   "metadata": {},
   "outputs": [],
   "source": [
    "# commet"
   ]
  },
  {
   "cell_type": "code",
   "execution_count": 2,
   "id": "fa9cb39f",
   "metadata": {},
   "outputs": [],
   "source": [
    "# Code lab 4  bài 2 ở đây\n",
    "def tinh_nguyen_lieu(so_banh_dau_xanh, so_banh_thap_cam, so_banh_deo):\n",
    "    tong_duong = (so_banh_dau_xanh * 0.04) + (so_banh_thap_cam * 0.06) + (so_banh_deo * 0.05)\n",
    "    tong_dau = (so_banh_dau_xanh * 0.07) + (so_banh_thap_cam * 0) + (so_banh_deo * 0.02)\n",
    "    nguyen_lieu_can_thiet = {\"sugar\": tong_duong, \"bean\": tong_dau}\n",
    "    return nguyen_lieu_can_thiet"
   ]
  },
  {
   "cell_type": "markdown",
   "id": "0f2483fe",
   "metadata": {},
   "source": [
    "## Lab 4 - Bài 3"
   ]
  },
  {
   "cell_type": "code",
   "execution_count": null,
   "id": "7034990b",
   "metadata": {},
   "outputs": [
    {
     "name": "stdout",
     "output_type": "stream",
     "text": [
      "\n",
      "--- MENU ỨNG DỤNG ---\n",
      "1. Chức năng Bài 3 (Lọc số chẵn)\n",
      "2. Chức năng Bài 1a (Phần 1)\n",
      "3. Chức năng Bài 1b (Phần 1)\n",
      "0. Thoát ứng dụng\n",
      "--------------------\n",
      "Lựa chọn không hợp lệ. Vui lòng chọn lại.\n",
      "\n",
      "--- MENU ỨNG DỤNG ---\n",
      "1. Chức năng Bài 3 (Lọc số chẵn)\n",
      "2. Chức năng Bài 1a (Phần 1)\n",
      "3. Chức năng Bài 1b (Phần 1)\n",
      "0. Thoát ứng dụng\n",
      "--------------------\n"
     ]
    },
    {
     "ename": "NameError",
     "evalue": "name 'loc_so_chan' is not defined",
     "output_type": "error",
     "traceback": [
      "\u001b[31m---------------------------------------------------------------------------\u001b[39m",
      "\u001b[31mNameError\u001b[39m                                 Traceback (most recent call last)",
      "\u001b[36mCell\u001b[39m\u001b[36m \u001b[39m\u001b[32mIn[3]\u001b[39m\u001b[32m, line 37\u001b[39m\n\u001b[32m     34\u001b[39m         \u001b[38;5;28;01melse\u001b[39;00m:\n\u001b[32m     35\u001b[39m             \u001b[38;5;28mprint\u001b[39m(\u001b[33m\"\u001b[39m\u001b[33mLựa chọn không hợp lệ. Vui lòng chọn lại.\u001b[39m\u001b[33m\"\u001b[39m)\n\u001b[32m---> \u001b[39m\u001b[32m37\u001b[39m \u001b[43mmain_menu\u001b[49m\u001b[43m(\u001b[49m\u001b[43m)\u001b[49m\n",
      "\u001b[36mCell\u001b[39m\u001b[36m \u001b[39m\u001b[32mIn[3]\u001b[39m\u001b[32m, line 26\u001b[39m, in \u001b[36mmain_menu\u001b[39m\u001b[34m()\u001b[39m\n\u001b[32m     23\u001b[39m lua_chon = \u001b[38;5;28minput\u001b[39m(\u001b[33m\"\u001b[39m\u001b[33mNhập lựa chọn của bạn: \u001b[39m\u001b[33m\"\u001b[39m)\n\u001b[32m     25\u001b[39m \u001b[38;5;28;01mif\u001b[39;00m lua_chon == \u001b[33m'\u001b[39m\u001b[33m1\u001b[39m\u001b[33m'\u001b[39m:\n\u001b[32m---> \u001b[39m\u001b[32m26\u001b[39m     \u001b[43mbai_3\u001b[49m\u001b[43m(\u001b[49m\u001b[43m)\u001b[49m\n\u001b[32m     27\u001b[39m \u001b[38;5;28;01melif\u001b[39;00m lua_chon == \u001b[33m'\u001b[39m\u001b[33m2\u001b[39m\u001b[33m'\u001b[39m:\n\u001b[32m     28\u001b[39m     bai_phan_1_a()\n",
      "\u001b[36mCell\u001b[39m\u001b[36m \u001b[39m\u001b[32mIn[3]\u001b[39m\u001b[32m, line 4\u001b[39m, in \u001b[36mbai_3\u001b[39m\u001b[34m()\u001b[39m\n\u001b[32m      2\u001b[39m \u001b[38;5;28;01mdef\u001b[39;00m\u001b[38;5;250m \u001b[39m\u001b[34mbai_3\u001b[39m():\n\u001b[32m      3\u001b[39m     \u001b[38;5;66;03m# Gọi hàm loc_so_chan() đã định nghĩa ở Bài 3\u001b[39;00m\n\u001b[32m----> \u001b[39m\u001b[32m4\u001b[39m     \u001b[43mloc_so_chan\u001b[49m()\n",
      "\u001b[31mNameError\u001b[39m: name 'loc_so_chan' is not defined"
     ]
    },
    {
     "ename": "",
     "evalue": "",
     "output_type": "error",
     "traceback": [
      "\u001b[1;31mThe Kernel crashed while executing code in the current cell or a previous cell. \n",
      "\u001b[1;31mPlease review the code in the cell(s) to identify a possible cause of the failure. \n",
      "\u001b[1;31mClick <a href='https://aka.ms/vscodeJupyterKernelCrash'>here</a> for more info. \n",
      "\u001b[1;31mView Jupyter <a href='command:jupyter.viewOutput'>log</a> for further details."
     ]
    }
   ],
   "source": [
    "# Code lab 4  bài 3 ở đây\n",
    "def bai_3():\n",
    "    # Gọi hàm loc_so_chan() đã định nghĩa ở Bài 3\n",
    "    loc_so_chan()\n",
    "\n",
    "def bai_phan_1_a():\n",
    "    print(\"Đây là chức năng của Bài 1a (Phần 1).\")\n",
    "\n",
    "def bai_phan_1_b():\n",
    "    print(\"Đây là chức năng của Bài 1b (Phần 1).\")\n",
    "\n",
    "def hien_thi_menu():\n",
    "    print(\"\\n--- MENU ỨNG DỤNG ---\")\n",
    "    print(\"1. Chức năng Bài 3 (Lọc số chẵn)\")\n",
    "    print(\"2. Chức năng Bài 1a (Phần 1)\")\n",
    "    print(\"3. Chức năng Bài 1b (Phần 1)\")\n",
    "    print(\"0. Thoát ứng dụng\")\n",
    "    print(\"--------------------\")\n",
    "\n",
    "def main_menu():\n",
    "    while True:\n",
    "        hien_thi_menu()\n",
    "        lua_chon = input(\"Nhập lựa chọn của bạn: \")\n",
    "\n",
    "        if lua_chon == '1':\n",
    "            bai_3()\n",
    "        elif lua_chon == '2':\n",
    "            bai_phan_1_a()\n",
    "        elif lua_chon == '3':\n",
    "            bai_phan_1_b()\n",
    "        elif lua_chon == '0':\n",
    "            print(\"Thoát ứng dụng. Tạm biệt!\")\n",
    "            break\n",
    "        else:\n",
    "            print(\"Lựa chọn không hợp lệ. Vui lòng chọn lại.\")\n",
    "\n",
    "main_menu()"
   ]
  },
  {
   "cell_type": "markdown",
   "id": "d36ea3d3",
   "metadata": {},
   "source": [
    "## Lab 4 - Bài 4"
   ]
  },
  {
   "cell_type": "code",
   "execution_count": null,
   "id": "4c707ec1",
   "metadata": {},
   "outputs": [],
   "source": [
    "# code lab 4 bài 4 ở đây\n",
    "def hien_thi_menu():\n",
    "        print(\"\\nMÀN HÌNH THỰC ĐƠN:\")\n",
    "        print(\"1. Tính tiền nước sinh hoạt\")\n",
    "        print(\"2. Tính nguyên liệu làm bánh\")\n",
    "        print(\"3. Kết thúc\")\n",
    "\n",
    "    def xu_ly_menu():\n",
    "        while True:\n",
    "            hien_thi_menu()\n",
    "            chon_chuc_nang = input(\"Chọn chức năng: \")\n",
    "\n",
    "            if chon_chuc_nang == '1':\n",
    "                # Gọi hàm tính tiền nước sinh hoạt từ bai1.py\n",
    "                # Ví dụ: bai1.tinh_tien_nuoc()\n",
    "                print(\"Chức năng Tính tiền nước sinh hoạt đang được thực hiện...\")\n",
    "            elif chon_chuc_nang == '2':\n",
    "                # Gọi hàm tính nguyên liệu làm bánh từ bai2.py\n",
    "                # Ví dụ: bai2.tinh_nguyen_lieu()\n",
    "                print(\"Chức năng Tính nguyên liệu làm bánh đang được thực hiện...\")\n",
    "            elif chon_chuc_nang == '3':\n",
    "                print(\"Kết thúc chương trình.\")\n",
    "                break\n",
    "            else:\n",
    "                print(\"Chức năng không hợp lệ. Vui lòng chọn lại.\")\n"
   ]
  },
  {
   "cell_type": "markdown",
   "id": "e2b41d4a",
   "metadata": {},
   "source": [
    "## Lab 4 - Bài 5: bài tập làm thêm"
   ]
  },
  {
   "cell_type": "code",
   "execution_count": null,
   "id": "0e0172f7",
   "metadata": {},
   "outputs": [],
   "source": [
    "# code lab 4  bài làm thêm ở đây "
   ]
  }
 ],
 "metadata": {
  "kernelspec": {
   "display_name": "Python 3",
   "language": "python",
   "name": "python3"
  },
  "language_info": {
   "codemirror_mode": {
    "name": "ipython",
    "version": 3
   },
   "file_extension": ".py",
   "mimetype": "text/x-python",
   "name": "python",
   "nbconvert_exporter": "python",
   "pygments_lexer": "ipython3",
   "version": "3.13.7"
  }
 },
 "nbformat": 4,
 "nbformat_minor": 5
}
