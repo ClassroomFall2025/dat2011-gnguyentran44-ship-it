{
 "cells": [
  {
   "cell_type": "markdown",
   "id": "fdeff819",
   "metadata": {},
   "source": [
    "# Sinh Viên thực hiện Lab 3 ở Đây"
   ]
  },
  {
   "cell_type": "markdown",
   "id": "acc5d7dc",
   "metadata": {},
   "source": [
    "## Lab 3 - Bài 1"
   ]
  },
  {
   "cell_type": "code",
   "execution_count": null,
   "id": "001e0507",
   "metadata": {},
   "outputs": [
    {
     "ename": "",
     "evalue": "",
     "output_type": "error",
     "traceback": [
      "\u001b[1;31mThe Kernel crashed while executing code in the current cell or a previous cell. \n",
      "\u001b[1;31mPlease review the code in the cell(s) to identify a possible cause of the failure. \n",
      "\u001b[1;31mClick <a href='https://aka.ms/vscodeJupyterKernelCrash'>here</a> for more info. \n",
      "\u001b[1;31mView Jupyter <a href='command:jupyter.viewOutput'>log</a> for further details."
     ]
    }
   ],
   "source": [
    "# Code lab 3 bài 1 ở đây\n",
    "#khai báo 1 list dãy số\n",
    "\n",
    "day_so = []\n",
    "day_so_chia3 = []\n",
    "tong = 0\n",
    "dem = 0\n",
    "while True:\n",
    "    so = input(\"Nhập số: \")\n",
    "    if so == 'q':\n",
    "        print(\"thoát chương trình\")\n",
    "        break\n",
    "    else:\n",
    "        try:\n",
    "            phan_tu = int(so)\n",
    "            day_so.append(phan_tu)\n",
    "        except ValueError:\n",
    "            print(\"Vui lòng nhập đúng số hoặc q để thoát chương trình\")\n",
    "print(day_so)\n",
    "#sắp xếp các dãy số tăng dần\n",
    "print(day_so)\n",
    "print(\"giá trị nhỏ nhất dảy số\",day_so [0])\n",
    "print(\"giá trị lớn nhất dãy số\",day_so[-1])\n",
    "for phan_tu in day_so:\n",
    "    if phan_tu % 3 == 0:\n",
    "        tong = tong + phan_tu #tong = phan_tu\n",
    "        dem = dem +1 # dem +=1\n",
    "        day_so_chia3.append(phan_tu)\n",
    "print(\"tong cac so chia het cho 3 trong day so\",tong)\n",
    "print(f\"có{dem}chia hết cho 3 trong dãy so\")\n",
    "if dem !=0:\n",
    "    print(\"tbc\",tong/dem)\n",
    "\n",
    "else:\n",
    "    print(\"không có dãy số nào chia hết cho 3 trong dãy số\")\n",
    "print(day_so)\n",
    "print(day_so_chia3)\n"
   ]
  },
  {
   "cell_type": "markdown",
   "id": "c0835310",
   "metadata": {},
   "source": [
    "## Lab 3 - Bài 2"
   ]
  },
  {
   "cell_type": "code",
   "execution_count": null,
   "id": "fa9cb39f",
   "metadata": {},
   "outputs": [
    {
     "name": "stdout",
     "output_type": "stream",
     "text": [
      "Thông tin sinh viên:\n",
      "Họ tên: Gia bảo\n",
      "Điểm: 9.0\n",
      "Xếp loại: Xuất sắc\n",
      "\n"
     ]
    }
   ],
   "source": [
    "# Code lab 3  bài 2 ở đây\n",
    "# Viết chương trình nhập dữ liệu của một sinh viên. Thông tin của sinh viên bao gồm: họ tên và điểm.\n",
    "ho_ten = (input(\"Họ tên: \"))\n",
    "diem = (float(input(\"Điểm: \")))\n",
    "\n",
    "# Xuất dữ liệu đã nhập, bổ sung thêm thông tin về xếp loại\n",
    "print(\"Thông tin sinh viên:\")\n",
    "print(\"Họ tên:\", ho_ten)\n",
    "print(\"Điểm:\", diem)\n",
    "if diem >= 9:\n",
    "    print(\"Xếp loại: Xuất sắc\")\n",
    "elif 8 <= diem < 9:\n",
    "    print(\"Xếp loại: Giỏi\")\n",
    "elif 7 <= diem < 8:\n",
    "    print(\"Xếp loại: Khá\")\n",
    "elif 5 <= diem < 7:\n",
    "    print(\"Xếp loại: Trung bình\")\n",
    "else:\n",
    "    print(\"Xếp loại: Yếu\")\n",
    "print()\n",
    "\n",
    "# CÁC YÊU CẦU NÂNG CAO (KHÔNG BẮT BUỘC)\n",
    "# Sử dụng kiểu list để lưu danh sách sinh viên\n",
    "list_sinh_vien = []\n",
    "so_luong = int(input(\"Nhập số lượng sinh viên: \"))\n",
    "\n",
    "# Nhập vào thông tin của một vài sinh viên\n",
    "for i in range(so_luong):\n",
    "    ho_ten = input(f\"Họ tên sinh viên {i+1}: \")\n",
    "    diem = float(input(f\"Điểm sinh viên {i+1}: \"))\n",
    "    list_sinh_vien.append((ho_ten, diem))\n",
    "    \n",
    "# Xuất thông tin của sinh viên ra màn hình, có thêm thông tin xếp loại\n",
    "print(\"\\nDanh sách sinh viên:\")\n",
    "for sv in list_sinh_vien:\n",
    "    ho_ten, diem = sv\n",
    "    print(\"Họ tên:\", ho_ten)\n",
    "    print(\"Điểm:\", diem)\n",
    "    if diem >= 9:\n",
    "        print(\"Xếp loại: Xuất sắc\")\n",
    "        print()\n",
    "    elif 8 <= diem < 9:\n",
    "        print(\"Xếp loại: Giỏi\")\n",
    "        print()\n",
    "    elif 7 <= diem < 8:\n",
    "        print(\"Xếp loại: Khá\")\n",
    "        print()\n",
    "    elif 5 <= diem < 7:\n",
    "        print(\"Xếp loại: Trung bình\")\n",
    "        print()\n",
    "    else:\n",
    "        print(\"Xếp loại: Yếu\")\n",
    "        print()"
   ]
  },
  {
   "cell_type": "markdown",
   "id": "0f2483fe",
   "metadata": {},
   "source": [
    "## Lab 3 - Bài 3"
   ]
  },
  {
   "cell_type": "code",
   "execution_count": null,
   "id": "7034990b",
   "metadata": {},
   "outputs": [],
   "source": [
    "# Code lab 3  bài 3 ở đây# Viết chương trình nhập một số nguyên từ bàn phím và cho biết số đó có phải là số nguyên tố hay không (số nguyên tố là số chỉ chia hết cho 1 và chính nó).\n",
    "n = int(input(\"Nhập một số nguyên: \"))\n",
    "ok = True\n",
    "i = 2\n",
    "\n",
    "while i < (n - 1):\n",
    "    if n % i == 0:\n",
    "        ok = False\n",
    "        break\n",
    "    i += 1\n",
    "\n",
    "# Kiểm tra biến ok bạn sẽ biết n có phải là số nguyên tố hay không?\n",
    "if ok and n > 1:\n",
    "    print(n, \"là số nguyên tố\")\n",
    "else:\n",
    "    print(n, \"không phải là số nguyên tố\")\n"
   ]
  },
  {
   "cell_type": "markdown",
   "id": "d36ea3d3",
   "metadata": {},
   "source": [
    "## Lab 3 - Bài 4"
   ]
  },
  {
   "cell_type": "code",
   "execution_count": null,
   "id": "4c707ec1",
   "metadata": {},
   "outputs": [],
   "source": [
    "# code lab 3 bài 4 ở đây\n",
    "# code lab 3 bài 4 ở đây\n",
    "\n",
    "# Viết chương trình xuất ra màn hình bảng cửu chương\n",
    "for i in range(1, 10):\n",
    "        print(f\"Bảng cửu chương {i}:\")\n",
    "        for j in range(1, 10):\n",
    "            print(f\"{i} x {j} = {i*j}\", end=\"\\t\")\n",
    "        print()"
   ]
  },
  {
   "cell_type": "markdown",
   "id": "e2b41d4a",
   "metadata": {},
   "source": [
    "## Lab 3 - Bài 5: bài tập làm thêm"
   ]
  },
  {
   "cell_type": "code",
   "execution_count": null,
   "id": "0e0172f7",
   "metadata": {},
   "outputs": [],
   "source": [
    "# code lab 3  bài làm thêm ở đây "
   ]
  }
 ],
 "metadata": {
  "kernelspec": {
   "display_name": "Python 3",
   "language": "python",
   "name": "python3"
  },
  "language_info": {
   "codemirror_mode": {
    "name": "ipython",
    "version": 3
   },
   "file_extension": ".py",
   "mimetype": "text/x-python",
   "name": "python",
   "nbconvert_exporter": "python",
   "pygments_lexer": "ipython3",
   "version": "3.13.7"
  }
 },
 "nbformat": 4,
 "nbformat_minor": 5
}
