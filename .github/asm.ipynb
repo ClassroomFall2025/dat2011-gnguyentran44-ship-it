{
 "cells": [
  {
   "cell_type": "code",
   "execution_count": 1,
   "id": "ee41d67f",
   "metadata": {},
   "outputs": [
    {
     "name": "stdout",
     "output_type": "stream",
     "text": [
      "\n",
      "====== HỆ THỐNG QUẢN LÝ SINH VIÊN ======\n",
      "1. Thêm nhân viên\n",
      "2. Xóa nhân viên\n",
      "3. Cập nhật nhân viên\n",
      "4. Xem danh sách nhân viên\n",
      "5. Thoát\n"
     ]
    },
    {
     "ename": "NameError",
     "evalue": "name 'them_nhan_vien' is not defined",
     "output_type": "error",
     "traceback": [
      "\u001b[31m---------------------------------------------------------------------------\u001b[39m",
      "\u001b[31mNameError\u001b[39m                                 Traceback (most recent call last)",
      "\u001b[36mCell\u001b[39m\u001b[36m \u001b[39m\u001b[32mIn[1]\u001b[39m\u001b[32m, line 29\u001b[39m\n\u001b[32m     26\u001b[39m             \u001b[38;5;28mprint\u001b[39m(\u001b[33m\"\u001b[39m\u001b[33mLựa chọn không hợp lệ. Vui lòng nhập lại!\u001b[39m\u001b[33m\"\u001b[39m)\n\u001b[32m     28\u001b[39m \u001b[38;5;66;03m# Chạy menu\u001b[39;00m\n\u001b[32m---> \u001b[39m\u001b[32m29\u001b[39m \u001b[43mmenu\u001b[49m\u001b[43m(\u001b[49m\u001b[43m)\u001b[49m\n",
      "\u001b[36mCell\u001b[39m\u001b[36m \u001b[39m\u001b[32mIn[1]\u001b[39m\u001b[32m, line 15\u001b[39m, in \u001b[36mmenu\u001b[39m\u001b[34m()\u001b[39m\n\u001b[32m     12\u001b[39m chon = \u001b[38;5;28minput\u001b[39m(\u001b[33m\"\u001b[39m\u001b[33mNhập lựa chọn (1-5): \u001b[39m\u001b[33m\"\u001b[39m)\n\u001b[32m     14\u001b[39m \u001b[38;5;28;01mif\u001b[39;00m chon == \u001b[33m\"\u001b[39m\u001b[33m1\u001b[39m\u001b[33m\"\u001b[39m:\n\u001b[32m---> \u001b[39m\u001b[32m15\u001b[39m     \u001b[43mthem_nhan_vien\u001b[49m()\n\u001b[32m     16\u001b[39m \u001b[38;5;28;01melif\u001b[39;00m chon == \u001b[33m\"\u001b[39m\u001b[33m2\u001b[39m\u001b[33m\"\u001b[39m:\n\u001b[32m     17\u001b[39m     xoa_nhan_vien()\n",
      "\u001b[31mNameError\u001b[39m: name 'them_nhan_vien' is not defined"
     ]
    }
   ],
   "source": [
    "# Menu chính\n",
    "import asm\n",
    "def menu():\n",
    "    while True:\n",
    "        print(\"\\n====== HỆ THỐNG QUẢN LÝ SINH VIÊN ======\")\n",
    "        print(\"1. Thêm nhân viên\")\n",
    "        print(\"2. Xóa nhân viên\")\n",
    "        print(\"3. Cập nhật nhân viên\")\n",
    "        print(\"4. Xem danh sách nhân viên\")\n",
    "        print(\"5. Thoát\")\n",
    "        \n",
    "        chon = input(\"Nhập lựa chọn (1-5): \")\n",
    "        \n",
    "        if chon == \"1\":\n",
    "            them_nhan_vien()\n",
    "        elif chon == \"2\":\n",
    "            xoa_nhan_vien()\n",
    "        elif chon == \"3\":\n",
    "            cap_nhat_nhan_vien()\n",
    "        elif chon == \"4\":\n",
    "            xem_danh_sach()\n",
    "        elif chon == \"5\":\n",
    "            thoat()\n",
    "            break\n",
    "        else:\n",
    "            print(\"Lựa chọn không hợp lệ. Vui lòng nhập lại!\")\n",
    "\n",
    "# Chạy menu\n",
    "menu()"
   ]
  }
 ],
 "metadata": {
  "kernelspec": {
   "display_name": "Python 3",
   "language": "python",
   "name": "python3"
  },
  "language_info": {
   "codemirror_mode": {
    "name": "ipython",
    "version": 3
   },
   "file_extension": ".py",
   "mimetype": "text/x-python",
   "name": "python",
   "nbconvert_exporter": "python",
   "pygments_lexer": "ipython3",
   "version": "3.13.7"
  }
 },
 "nbformat": 4,
 "nbformat_minor": 5
}
