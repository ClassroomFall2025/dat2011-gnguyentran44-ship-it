{
 "cells": [
  {
   "cell_type": "code",
   "execution_count": null,
   "id": "1238553d",
   "metadata": {},
   "outputs": [],
   "source": [
    "import sinhvienpoly as sv\n",
    "class QuanLySinhVien:\n",
    "    def __init__(self):\n",
    "        self.ds_sinh_vien = []\n",
    "    def nhap_dssv(self):\n",
    "        n = int(input(\"Nhập số lượng sinh viên: \"))\n",
    "        for i in range(n):\n",
    "            print(f\"Nhập thông tin sinh viên thứ {i + 1}:\")\n",
    "            tensv = input(\"Tên sinh viên: \")\n",
    "            nganh = input(\"Ngành học: \")\n",
    "            loai = input(\"Loại sinh viên (IT/Biz): \")\n",
    "            if loai == \"IT\":\n",
    "                    java = float(input(\"Điểm Java: \"))\n",
    "                    html = float(input(\"Điểm HTML: \"))\n",
    "                    css = float(input(\"Điểm CSS: \"))\n",
    "                    sv_it = sv.SinhVienIT(tensv, nganh, java, html, css)\n",
    "                    self.ds_sinh_vien.append(sv_it)\n",
    "            elif loai == \"Biz\":\n",
    "                    marketing = float(input(\"Điểm Marketing: \"))\n",
    "                    sales = float(input(\"Điểm Sales: \"))\n",
    "                    sv_biz = sv.SinhVienBiz(tensv, nganh, marketing, sales)\n",
    "                    self.ds_sinh_vien.append(sv_biz)\n",
    "\n",
    "    def xuat_dssv(self):\n",
    "        for sinh_vien in self.ds_sinh_vien:\n",
    "            print(\"Thông tin sinh viên:\")\n",
    "            print(f\"Tên: {sinh_vien.tensv}\")\n",
    "            \n",
    "            print(f\"Điểm: {sinh_vien.get_diem()}\")\n",
    "            print(f\"Học lực: {sinh_vien.get_hoc_luc()}\")"
   ]
  }
 ],
 "metadata": {
  "kernelspec": {
   "display_name": "Python 3",
   "language": "python",
   "name": "python3"
  },
  "language_info": {
   "codemirror_mode": {
    "name": "ipython",
    "version": 3
   },
   "file_extension": ".py",
   "mimetype": "text/x-python",
   "name": "python",
   "nbconvert_exporter": "python",
   "pygments_lexer": "ipython3",
   "version": "3.13.7"
  }
 },
 "nbformat": 4,
 "nbformat_minor": 5
}
