{
 "cells": [
  {
   "cell_type": "markdown",
   "id": "fdeff819",
   "metadata": {},
   "source": [
    "# Sinh Viên thực hiện Lab 1 ở Đây"
   ]
  },
  {
   "cell_type": "markdown",
   "id": "acc5d7dc",
   "metadata": {},
   "source": [
    "## Lab 1 - Bài 1"
   ]
  },
  {
   "cell_type": "code",
   "execution_count": 13,
   "id": "001e0507",
   "metadata": {},
   "outputs": [
    {
     "name": "stdout",
     "output_type": "stream",
     "text": [
      "Tôi tên là Nguyễn Trần Gia Bảo\n",
      "quê quán:TPHCM\n"
     ]
    }
   ],
   "source": [
    "# Code lab 1 \n",
    "print(\"Tôi tên là Nguyễn Trần Gia Bảo\")\n",
    "print('quê quán:TPHCM')\n"
   ]
  },
  {
   "cell_type": "code",
   "execution_count": null,
   "id": "0f4a2019",
   "metadata": {},
   "outputs": [],
   "source": []
  },
  {
   "cell_type": "markdown",
   "id": "c0835310",
   "metadata": {},
   "source": [
    "## Lab 1 - Bài 2"
   ]
  },
  {
   "cell_type": "code",
   "execution_count": 9,
   "id": "fa9cb39f",
   "metadata": {},
   "outputs": [
    {
     "name": "stdout",
     "output_type": "stream",
     "text": [
      "chu vi hình chữ nhật: 100.0\n",
      "Diện tích hình chữ nhật: 600.0\n"
     ]
    }
   ],
   "source": [
    "dai=float(input(\" nhập chiều dài\"))\n",
    "rong=float(input(\" nhập chiều rộng\"))\n",
    "cv=(dai+rong)*2\n",
    "dt=dai*rong\n",
    "print(\"chu vi hình chữ nhật:\",cv)\n",
    "print(\"Diện tích hình chữ nhật:\",dt)"
   ]
  },
  {
   "cell_type": "markdown",
   "id": "0f2483fe",
   "metadata": {},
   "source": [
    "## Lab 1 - Bài 3"
   ]
  },
  {
   "cell_type": "code",
   "execution_count": null,
   "id": "7034990b",
   "metadata": {},
   "outputs": [
    {
     "name": "stdout",
     "output_type": "stream",
     "text": [
      "\"...\n",
      "Sống không giận, không hờn không oán trách\n",
      "Sống mỉm cười, với thử thách chông gai\n",
      "Sống vươn lên, theo kịp ánh ban mai\n",
      "SốngSống là động,nhưng lòng luôn bất động\n",
      "SốngSống là thương,nhưng lòng chẳng vấn vương\n",
      "SốngSống yên vui danh lợi mãi coi thường\n",
      "SốngTâm bất biến giữa dòng đời vạn biến\n"
     ]
    }
   ],
   "source": [
    "TuSong =\"Sống\"\n",
    "print('\"...')\n",
    "print(f\"{TuSong} không giận, không hờn không oán trách\")\n",
    "print(f\"{TuSong} mỉm cười, với thử thách chông gai\")\n",
    "print(f\"{TuSong} vươn lên, theo kịp ánh ban mai\")\n",
    "print(f\"{TuSong}Sống là động,nhưng lòng luôn bất động\")\n",
    "print(f\"{TuSong}Sống là động,nhưng lòng luôn bất động\")\n",
    "print(f\"{TuSong}Sống yên vui danh lợi mãi coi thường\")\n",
    "print(f\"{TuSong}Tâm bất biến giữa dòng đời vạn biến\")"
   ]
  },
  {
   "cell_type": "markdown",
   "id": "d36ea3d3",
   "metadata": {},
   "source": [
    "## Lab 1 - Bài 4"
   ]
  },
  {
   "cell_type": "code",
   "execution_count": 14,
   "id": "4c707ec1",
   "metadata": {},
   "outputs": [
    {
     "ename": "NameError",
     "evalue": "name 'math' is not defined",
     "output_type": "error",
     "traceback": [
      "\u001b[31m---------------------------------------------------------------------------\u001b[39m",
      "\u001b[31mNameError\u001b[39m                                 Traceback (most recent call last)",
      "\u001b[36mCell\u001b[39m\u001b[36m \u001b[39m\u001b[32mIn[14]\u001b[39m\u001b[32m, line 5\u001b[39m\n\u001b[32m      3\u001b[39m c=\u001b[38;5;28mfloat\u001b[39m(\u001b[38;5;28minput\u001b[39m(\u001b[33m\"\u001b[39m\u001b[33mnhập c\u001b[39m\u001b[33m\"\u001b[39m))\n\u001b[32m      4\u001b[39m delta=b**\u001b[32m2\u001b[39m-\u001b[32m4\u001b[39m*a*c\n\u001b[32m----> \u001b[39m\u001b[32m5\u001b[39m \u001b[38;5;28mprint\u001b[39m(\u001b[33m\"\u001b[39m\u001b[33mcăn bậc 2 của delta là:\u001b[39m\u001b[33m\"\u001b[39m,\u001b[43mmath\u001b[49m.sqrt(\u001b[38;5;28mabs\u001b[39m(delta)))\n\u001b[32m      6\u001b[39m \u001b[38;5;28mprint\u001b[39m(\u001b[33m\"\u001b[39m\u001b[33mtét\u001b[39m\u001b[33m\"\u001b[39m)\n",
      "\u001b[31mNameError\u001b[39m: name 'math' is not defined"
     ]
    }
   ],
   "source": [
    "a=float(input(\"nhập a:\"))\n",
    "b=float(input(\"nhập b:\"))\n",
    "c=float(input(\"nhập c\"))\n",
    "delta=b**2-4*a*c\n",
    "print(\"căn bậc 2 của delta là:\",math.sqrt(abs(delta)))\n",
    "print(\"tét\")"
   ]
  },
  {
   "cell_type": "markdown",
   "id": "e2b41d4a",
   "metadata": {},
   "source": [
    "## Lab 1 - Bài 5: bài tập làm thêm"
   ]
  },
  {
   "cell_type": "code",
   "execution_count": 12,
   "id": "0e0172f7",
   "metadata": {},
   "outputs": [
    {
     "name": "stdout",
     "output_type": "stream",
     "text": [
      "1.phép tính cơ bản(+ - * /)\n",
      "2.Lũy thừa(x*y)\n",
      "3.căn bậc 2(căn x))\n",
      "hàm lượng giác(sin,cos,tan)\n"
     ]
    }
   ],
   "source": [
    "x=float(input(\"nhập x:\"))\n",
    "y=float(input(\"nhập y:\"))\n",
    "print(\"1.phép tính cơ bản(+ - * /)\")\n",
    "print(\"2.Lũy thừa(x*y)\")\n",
    "print(\"3.căn bậc 2(căn x))\")\n",
    "print(\"hàm lượng giác(sin,cos,tan)\")"
   ]
  },
  {
   "cell_type": "markdown",
   "id": "8a9c7990",
   "metadata": {},
   "source": []
  }
 ],
 "metadata": {
  "kernelspec": {
   "display_name": "Python 3",
   "language": "python",
   "name": "python3"
  },
  "language_info": {
   "codemirror_mode": {
    "name": "ipython",
    "version": 3
   },
   "file_extension": ".py",
   "mimetype": "text/x-python",
   "name": "python",
   "nbconvert_exporter": "python",
   "pygments_lexer": "ipython3",
   "version": "3.13.7"
  }
 },
 "nbformat": 4,
 "nbformat_minor": 5
}
